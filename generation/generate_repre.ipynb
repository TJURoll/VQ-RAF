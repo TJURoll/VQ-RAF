{
 "cells": [
  {
   "cell_type": "code",
   "execution_count": null,
   "metadata": {},
   "outputs": [],
   "source": [
    "import json\n",
    "import numpy as np\n",
    "import pickle\n",
    "from transformers import AutoTokenizer, AutoModelForCausalLM, AutoModel"
   ]
  },
  {
   "cell_type": "code",
   "execution_count": null,
   "metadata": {},
   "outputs": [],
   "source": [
    "with open('../data/steam/usr_prf.pkl', 'rb') as f:\n",
    "    usr_prf = pickle.load(f)\n",
    "print(len(usr_prf))"
   ]
  },
  {
   "cell_type": "code",
   "execution_count": null,
   "metadata": {},
   "outputs": [],
   "source": [
    "print(usr_prf[0])"
   ]
  },
  {
   "cell_type": "code",
   "execution_count": null,
   "metadata": {},
   "outputs": [],
   "source": [
    "print(type(usr_prf))"
   ]
  },
  {
   "cell_type": "code",
   "execution_count": null,
   "metadata": {},
   "outputs": [],
   "source": [
    "with open('../data/steam/itm_prf.pkl', 'rb') as f:\n",
    "    itm_prf = pickle.load(f)\n",
    "print(len(itm_prf))\n"
   ]
  },
  {
   "cell_type": "code",
   "execution_count": null,
   "metadata": {},
   "outputs": [],
   "source": [
    "print(itm_prf[0])"
   ]
  },
  {
   "cell_type": "code",
   "execution_count": null,
   "metadata": {},
   "outputs": [],
   "source": [
    "model = AutoModel.from_pretrained('../LLMs/llama2-embedding', trust_remote_code = True)\n",
    "tokenizer = AutoTokenizer.from_pretrained('../LLMs/llama2-embedding')"
   ]
  },
  {
   "cell_type": "code",
   "execution_count": null,
   "metadata": {},
   "outputs": [],
   "source": [
    "_ = model.cuda()"
   ]
  },
  {
   "cell_type": "code",
   "execution_count": null,
   "metadata": {},
   "outputs": [],
   "source": [
    "usr_repre_np = np.zeros((len(usr_prf), 1536))"
   ]
  },
  {
   "cell_type": "code",
   "execution_count": null,
   "metadata": {},
   "outputs": [],
   "source": [
    "for i in range(len(usr_prf)):\n",
    "    padded = tokenizer([usr_prf[i]['profile']], return_tensors=\"pt\", padding=True)\n",
    "    for k_ in padded: # input_ids, attention_mask\n",
    "        padded[k_] = padded[k_].cuda()\n",
    "    cur_repre = model.encode(padded).cpu().detach().numpy()[0]\n",
    "    usr_repre_np[i] = cur_repre\n"
   ]
  },
  {
   "cell_type": "code",
   "execution_count": null,
   "metadata": {},
   "outputs": [],
   "source": [
    "print(usr_repre_np.shape)"
   ]
  },
  {
   "cell_type": "code",
   "execution_count": null,
   "metadata": {},
   "outputs": [],
   "source": [
    "pickle.dump(usr_repre_np, open('../data/steam/usr_repre_np.pkl', 'wb'))"
   ]
  },
  {
   "cell_type": "code",
   "execution_count": null,
   "metadata": {},
   "outputs": [],
   "source": [
    "itm_repre_np = np.zeros((len(itm_prf), 1536))"
   ]
  },
  {
   "cell_type": "code",
   "execution_count": null,
   "metadata": {},
   "outputs": [],
   "source": [
    "for i in range(len(itm_prf)):\n",
    "    padded = tokenizer([itm_prf[i]['profile']], return_tensors=\"pt\", padding=True)\n",
    "    for k_ in padded: # input_ids, attention_mask\n",
    "        padded[k_] = padded[k_].cuda()\n",
    "    cur_repre = model.encode(padded).cpu().detach().numpy()[0]\n",
    "    itm_repre_np[i] = cur_repre\n"
   ]
  },
  {
   "cell_type": "code",
   "execution_count": null,
   "metadata": {},
   "outputs": [],
   "source": [
    "pickle.dump(itm_repre_np, open('../data/steam/itm_repre_np.pkl', 'wb'))"
   ]
  }
 ],
 "metadata": {
  "kernelspec": {
   "display_name": "vqlgn",
   "language": "python",
   "name": "python3"
  },
  "language_info": {
   "codemirror_mode": {
    "name": "ipython",
    "version": 3
   },
   "file_extension": ".py",
   "mimetype": "text/x-python",
   "name": "python",
   "nbconvert_exporter": "python",
   "pygments_lexer": "ipython3",
   "version": "3.9.20"
  }
 },
 "nbformat": 4,
 "nbformat_minor": 2
}

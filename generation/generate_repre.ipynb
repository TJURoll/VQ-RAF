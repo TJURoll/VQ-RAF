{
 "cells": [
  {
   "cell_type": "code",
   "execution_count": 17,
   "metadata": {},
   "outputs": [],
   "source": [
    "import json\n",
    "import numpy as np\n",
    "import pickle\n",
    "from transformers import AutoTokenizer, AutoModelForCausalLM, AutoModel"
   ]
  },
  {
   "cell_type": "code",
   "execution_count": 18,
   "metadata": {},
   "outputs": [
    {
     "name": "stdout",
     "output_type": "stream",
     "text": [
      "23310\n"
     ]
    }
   ],
   "source": [
    "with open('/home/workspace/xxx/RLMRec_trans/data/steam/usr_prf.pkl', 'rb') as f:\n",
    "    usr_prf = pickle.load(f)\n",
    "print(len(usr_prf))"
   ]
  },
  {
   "cell_type": "code",
   "execution_count": 19,
   "metadata": {},
   "outputs": [
    {
     "name": "stdout",
     "output_type": "stream",
     "text": [
      "{'profile': 'This user is likely to enjoy fast-paced and addictive arcade games, puzzle games with a touch of strategy and comedy, and unique first-person action adventure games with parkour mechanics and immersive atmospheres.', 'reasoning': \"Based on the games the user has played, they have shown interest in casual and challenging indie games like Timberman, as well as puzzle games like Tiny Bridge: Ratventure. Additionally, the user has interacted with Mirror's Edge, which suggests they enjoy first-person action adventure games with unique mechanics and immersive worlds.\"}\n"
     ]
    }
   ],
   "source": [
    "print(usr_prf[0])"
   ]
  },
  {
   "cell_type": "code",
   "execution_count": 20,
   "metadata": {},
   "outputs": [
    {
     "name": "stdout",
     "output_type": "stream",
     "text": [
      "<class 'dict'>\n"
     ]
    }
   ],
   "source": [
    "print(type(usr_prf))"
   ]
  },
  {
   "cell_type": "code",
   "execution_count": 21,
   "metadata": {},
   "outputs": [
    {
     "name": "stdout",
     "output_type": "stream",
     "text": [
      "5237\n"
     ]
    }
   ],
   "source": [
    "with open('/home/workspace/xxx/RLMRec_trans/data/steam/itm_prf.pkl', 'rb') as f:\n",
    "    itm_prf = pickle.load(f)\n",
    "print(len(itm_prf))\n"
   ]
  },
  {
   "cell_type": "code",
   "execution_count": 22,
   "metadata": {},
   "outputs": [
    {
     "name": "stdout",
     "output_type": "stream",
     "text": [
      "{'profile': \"Users who enjoy addictive puzzle-matching games with RPG elements and a challenging progression system may enjoy Gunspell - Steam Edition. However, the game's poor grammar and lack of sound options may deter some users.\", 'reasoning': \"The feedback from users suggests that Gunspell offers an addictive and fun gameplay experience. The mention of a complex system of items, magic, and fighting tactics indicates that players who enjoy strategic RPG elements may find the game appealing. The feedback also mentions that the game becomes more challenging as the hero levels up, which suggests a sense of progression and difficulty. However, there are complaints about the game's poor grammar and lack of sound options, which may be off-putting to some users. Overall, Gunspell seems to appeal to players who enjoy puzzle-matching games with RPG elements and are willing to overlook its shortcomings.\"}\n"
     ]
    }
   ],
   "source": [
    "print(itm_prf[0])"
   ]
  },
  {
   "cell_type": "code",
   "execution_count": 23,
   "metadata": {},
   "outputs": [],
   "source": [
    "model = AutoModel.from_pretrained('/home/workspace/xxx/LLMs/llama2-embedding', trust_remote_code = True)\n",
    "tokenizer = AutoTokenizer.from_pretrained('/home/workspace/xxx/LLMs/llama2-embedding')"
   ]
  },
  {
   "cell_type": "code",
   "execution_count": 24,
   "metadata": {},
   "outputs": [],
   "source": [
    "_ = model.cuda()"
   ]
  },
  {
   "cell_type": "code",
   "execution_count": 25,
   "metadata": {},
   "outputs": [],
   "source": [
    "usr_repre_np = np.zeros((len(usr_prf), 1536))"
   ]
  },
  {
   "cell_type": "code",
   "execution_count": 26,
   "metadata": {},
   "outputs": [],
   "source": [
    "for i in range(len(usr_prf)):\n",
    "    padded = tokenizer([usr_prf[i]['profile']], return_tensors=\"pt\", padding=True)\n",
    "    for k_ in padded: # input_ids, attention_mask\n",
    "        padded[k_] = padded[k_].cuda()\n",
    "    cur_repre = model.encode(padded).cpu().detach().numpy()[0]\n",
    "    usr_repre_np[i] = cur_repre\n"
   ]
  },
  {
   "cell_type": "code",
   "execution_count": 27,
   "metadata": {},
   "outputs": [
    {
     "name": "stdout",
     "output_type": "stream",
     "text": [
      "(23310, 1536)\n"
     ]
    }
   ],
   "source": [
    "print(usr_repre_np.shape)"
   ]
  },
  {
   "cell_type": "code",
   "execution_count": 28,
   "metadata": {},
   "outputs": [],
   "source": [
    "pickle.dump(usr_repre_np, open('/home/workspace/xxx/RLMRec_trans/data/steam/usr_repre_np.pkl', 'wb'))"
   ]
  },
  {
   "cell_type": "code",
   "execution_count": 29,
   "metadata": {},
   "outputs": [],
   "source": [
    "itm_repre_np = np.zeros((len(itm_prf), 1536))"
   ]
  },
  {
   "cell_type": "code",
   "execution_count": 30,
   "metadata": {},
   "outputs": [],
   "source": [
    "for i in range(len(itm_prf)):\n",
    "    padded = tokenizer([itm_prf[i]['profile']], return_tensors=\"pt\", padding=True)\n",
    "    for k_ in padded: # input_ids, attention_mask\n",
    "        padded[k_] = padded[k_].cuda()\n",
    "    cur_repre = model.encode(padded).cpu().detach().numpy()[0]\n",
    "    itm_repre_np[i] = cur_repre\n"
   ]
  },
  {
   "cell_type": "code",
   "execution_count": 31,
   "metadata": {},
   "outputs": [],
   "source": [
    "pickle.dump(itm_repre_np, open('/home/workspace/xxx/RLMRec_trans/data/steam/itm_repre_np.pkl', 'wb'))"
   ]
  }
 ],
 "metadata": {
  "kernelspec": {
   "display_name": "vqlgn",
   "language": "python",
   "name": "python3"
  },
  "language_info": {
   "codemirror_mode": {
    "name": "ipython",
    "version": 3
   },
   "file_extension": ".py",
   "mimetype": "text/x-python",
   "name": "python",
   "nbconvert_exporter": "python",
   "pygments_lexer": "ipython3",
   "version": "3.9.20"
  }
 },
 "nbformat": 4,
 "nbformat_minor": 2
}
